{
 "cells": [
  {
   "cell_type": "code",
   "execution_count": 1,
   "metadata": {},
   "outputs": [],
   "source": [
    "from torch.utils import *\n",
    "from torch import nn\n",
    "import torch,math,os\n",
    "import pytorch_lightning as pl\n",
    "import numpy as np\n",
    "import torch.nn.functional as F\n",
    "import matplotlib.pyplot as plt\n",
    "import seaborn as sns"
   ]
  },
  {
   "cell_type": "code",
   "execution_count": 2,
   "metadata": {},
   "outputs": [],
   "source": [
    "import pandas as pd\n",
    "with open('results.txt') as f:\n",
    "    df = pd.DataFrame([ eval(i) for i in f.readlines()])"
   ]
  },
  {
   "cell_type": "code",
   "execution_count": 3,
   "metadata": {},
   "outputs": [
    {
     "data": {
      "text/html": [
       "<div>\n",
       "<style scoped>\n",
       "    .dataframe tbody tr th:only-of-type {\n",
       "        vertical-align: middle;\n",
       "    }\n",
       "\n",
       "    .dataframe tbody tr th {\n",
       "        vertical-align: top;\n",
       "    }\n",
       "\n",
       "    .dataframe thead th {\n",
       "        text-align: right;\n",
       "    }\n",
       "</style>\n",
       "<table border=\"1\" class=\"dataframe\">\n",
       "  <thead>\n",
       "    <tr style=\"text-align: right;\">\n",
       "      <th></th>\n",
       "      <th>no_cuda</th>\n",
       "      <th>fastmode</th>\n",
       "      <th>seed</th>\n",
       "      <th>epochs</th>\n",
       "      <th>num_samples</th>\n",
       "      <th>lr</th>\n",
       "      <th>weight_decay</th>\n",
       "      <th>hidden</th>\n",
       "      <th>dropout</th>\n",
       "      <th>cuda</th>\n",
       "      <th>loss</th>\n",
       "      <th>acc</th>\n",
       "    </tr>\n",
       "  </thead>\n",
       "  <tbody>\n",
       "    <tr>\n",
       "      <th>0</th>\n",
       "      <td>False</td>\n",
       "      <td>False</td>\n",
       "      <td>42</td>\n",
       "      <td>200</td>\n",
       "      <td>50</td>\n",
       "      <td>0.01</td>\n",
       "      <td>0.0005</td>\n",
       "      <td>16</td>\n",
       "      <td>0.5</td>\n",
       "      <td>True</td>\n",
       "      <td>1.883898</td>\n",
       "      <td>0.558</td>\n",
       "    </tr>\n",
       "    <tr>\n",
       "      <th>1</th>\n",
       "      <td>False</td>\n",
       "      <td>False</td>\n",
       "      <td>42</td>\n",
       "      <td>200</td>\n",
       "      <td>100</td>\n",
       "      <td>0.01</td>\n",
       "      <td>0.0005</td>\n",
       "      <td>16</td>\n",
       "      <td>0.5</td>\n",
       "      <td>True</td>\n",
       "      <td>1.742849</td>\n",
       "      <td>0.874</td>\n",
       "    </tr>\n",
       "    <tr>\n",
       "      <th>2</th>\n",
       "      <td>False</td>\n",
       "      <td>False</td>\n",
       "      <td>42</td>\n",
       "      <td>200</td>\n",
       "      <td>200</td>\n",
       "      <td>0.01</td>\n",
       "      <td>0.0005</td>\n",
       "      <td>16</td>\n",
       "      <td>0.5</td>\n",
       "      <td>True</td>\n",
       "      <td>1.539673</td>\n",
       "      <td>0.897</td>\n",
       "    </tr>\n",
       "    <tr>\n",
       "      <th>3</th>\n",
       "      <td>False</td>\n",
       "      <td>False</td>\n",
       "      <td>42</td>\n",
       "      <td>200</td>\n",
       "      <td>500</td>\n",
       "      <td>0.01</td>\n",
       "      <td>0.0005</td>\n",
       "      <td>16</td>\n",
       "      <td>0.5</td>\n",
       "      <td>True</td>\n",
       "      <td>1.095146</td>\n",
       "      <td>0.919</td>\n",
       "    </tr>\n",
       "    <tr>\n",
       "      <th>4</th>\n",
       "      <td>False</td>\n",
       "      <td>False</td>\n",
       "      <td>42</td>\n",
       "      <td>200</td>\n",
       "      <td>1000</td>\n",
       "      <td>0.01</td>\n",
       "      <td>0.0005</td>\n",
       "      <td>16</td>\n",
       "      <td>0.5</td>\n",
       "      <td>True</td>\n",
       "      <td>0.730016</td>\n",
       "      <td>0.932</td>\n",
       "    </tr>\n",
       "    <tr>\n",
       "      <th>5</th>\n",
       "      <td>False</td>\n",
       "      <td>False</td>\n",
       "      <td>42</td>\n",
       "      <td>200</td>\n",
       "      <td>1500</td>\n",
       "      <td>0.01</td>\n",
       "      <td>0.0005</td>\n",
       "      <td>16</td>\n",
       "      <td>0.5</td>\n",
       "      <td>True</td>\n",
       "      <td>0.751504</td>\n",
       "      <td>0.914</td>\n",
       "    </tr>\n",
       "    <tr>\n",
       "      <th>6</th>\n",
       "      <td>False</td>\n",
       "      <td>False</td>\n",
       "      <td>42</td>\n",
       "      <td>200</td>\n",
       "      <td>2000</td>\n",
       "      <td>0.01</td>\n",
       "      <td>0.0005</td>\n",
       "      <td>16</td>\n",
       "      <td>0.5</td>\n",
       "      <td>True</td>\n",
       "      <td>0.560754</td>\n",
       "      <td>0.915</td>\n",
       "    </tr>\n",
       "    <tr>\n",
       "      <th>7</th>\n",
       "      <td>False</td>\n",
       "      <td>False</td>\n",
       "      <td>42</td>\n",
       "      <td>200</td>\n",
       "      <td>2708</td>\n",
       "      <td>0.01</td>\n",
       "      <td>0.0005</td>\n",
       "      <td>16</td>\n",
       "      <td>0.5</td>\n",
       "      <td>True</td>\n",
       "      <td>0.489946</td>\n",
       "      <td>0.901</td>\n",
       "    </tr>\n",
       "  </tbody>\n",
       "</table>\n",
       "</div>"
      ],
      "text/plain": [
       "   no_cuda  fastmode  seed  epochs  num_samples    lr  weight_decay  hidden  \\\n",
       "0    False     False    42     200           50  0.01        0.0005      16   \n",
       "1    False     False    42     200          100  0.01        0.0005      16   \n",
       "2    False     False    42     200          200  0.01        0.0005      16   \n",
       "3    False     False    42     200          500  0.01        0.0005      16   \n",
       "4    False     False    42     200         1000  0.01        0.0005      16   \n",
       "5    False     False    42     200         1500  0.01        0.0005      16   \n",
       "6    False     False    42     200         2000  0.01        0.0005      16   \n",
       "7    False     False    42     200         2708  0.01        0.0005      16   \n",
       "\n",
       "   dropout  cuda      loss    acc  \n",
       "0      0.5  True  1.883898  0.558  \n",
       "1      0.5  True  1.742849  0.874  \n",
       "2      0.5  True  1.539673  0.897  \n",
       "3      0.5  True  1.095146  0.919  \n",
       "4      0.5  True  0.730016  0.932  \n",
       "5      0.5  True  0.751504  0.914  \n",
       "6      0.5  True  0.560754  0.915  \n",
       "7      0.5  True  0.489946  0.901  "
      ]
     },
     "execution_count": 3,
     "metadata": {},
     "output_type": "execute_result"
    }
   ],
   "source": [
    "df"
   ]
  },
  {
   "cell_type": "code",
   "execution_count": 8,
   "metadata": {},
   "outputs": [
    {
     "data": {
      "text/plain": [
       "Text(0, 0.5, 'accuracy')"
      ]
     },
     "execution_count": 8,
     "metadata": {},
     "output_type": "execute_result"
    },
    {
     "data": {
      "image/png": "[encoded data removed]",
      "text/plain": [
       "<Figure size 432x288 with 1 Axes>"
      ]
     },
     "metadata": {
      "needs_background": "light"
     },
     "output_type": "display_data"
    }
   ],
   "source": [
    "plt.plot(df['num_samples'],df['acc'])\n",
    "plt.grid()\n",
    "plt.xlabel('num_samples')\n",
    "plt.ylabel('accuracy')"
   ]
  },
  {
   "cell_type": "code",
   "execution_count": null,
   "metadata": {},
   "outputs": [],
   "source": []
  }
 ],
 "metadata": {
  "interpreter": {
   "hash": "3d597f4c481aa0f25dceb95d2a0067e73c0966dcbd003d741d821a7208527ecf"
  },
  "kernelspec": {
   "display_name": "Python 3.9.7 ('base')",
   "language": "python",
   "name": "python3"
  },
  "language_info": {
   "codemirror_mode": {
    "name": "ipython",
    "version": 3
   },
   "file_extension": ".py",
   "mimetype": "text/x-python",
   "name": "python",
   "nbconvert_exporter": "python",
   "pygments_lexer": "ipython3",
   "version": "3.9.7"
  },
  "orig_nbformat": 4
 },
 "nbformat": 4,
 "nbformat_minor": 2
}
